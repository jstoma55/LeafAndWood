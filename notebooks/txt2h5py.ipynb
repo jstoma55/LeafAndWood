{
 "cells": [
  {
   "cell_type": "code",
   "execution_count": null,
   "id": "3b79b3ed-2387-4cee-89d7-6fc7d6e9e6bc",
   "metadata": {},
   "outputs": [],
   "source": [
    "import pandas as pd\n",
    "import numpy as np\n",
    "import h5py\n",
    "import sys\n",
    "sys.path.append(\"..\")\n",
    "from os import listdir\n",
    "from os.path import isfile, join"
   ]
  },
  {
   "cell_type": "code",
   "execution_count": null,
   "id": "0dabc61a-250b-4953-8a60-f27417b35e33",
   "metadata": {},
   "outputs": [],
   "source": [
    "data_dir = \"../data/labeled/\"\n",
    "h5_data_dir = \"../data/h5/\""
   ]
  },
  {
   "cell_type": "code",
   "execution_count": null,
   "id": "67758daa-7c3a-42ed-889c-7edf7642399f",
   "metadata": {},
   "outputs": [],
   "source": [
    "files = [f for f in listdir(data_dir) if isfile(join(data_dir, f))]\n"
   ]
  },
  {
   "cell_type": "code",
   "execution_count": null,
   "id": "8e07b945-c075-4803-bd05-5147c8f3cc42",
   "metadata": {},
   "outputs": [],
   "source": []
  },
  {
   "cell_type": "code",
   "execution_count": null,
   "id": "9a29a505-151d-43da-b37b-9b5c1bfc81da",
   "metadata": {},
   "outputs": [],
   "source": [
    "for file in files:\n",
    "    df = pd.read_csv(data_dir+file, sep=\" \", header=None)\n",
    "    data = df.to_numpy()\n",
    "    coords = data[:,0:3]\n",
    "    feats = data[:,3:5]\n",
    "    labels = data[:,-1]\n",
    "    with h5py.File(h5_data_dir+file.replace(\".txt\",\".h5\"), 'w') as h5f:\n",
    "        h5f.create_dataset('coords', data = coords)\n",
    "        h5f.create_dataset(\"feats\", data = feats)\n",
    "        h5f.create_dataset('labels', data = labels)\n",
    "\n"
   ]
  },
  {
   "cell_type": "code",
   "execution_count": null,
   "id": "a29bd204-6596-4baf-a22c-dc72789aef99",
   "metadata": {},
   "outputs": [],
   "source": []
  },
  {
   "cell_type": "code",
   "execution_count": null,
   "id": "ea7641c5-d8d6-496f-a25e-6ff31bc5877a",
   "metadata": {},
   "outputs": [],
   "source": []
  },
  {
   "cell_type": "code",
   "execution_count": null,
   "id": "be177074-f7e7-4815-a5e3-11cb93067b5a",
   "metadata": {},
   "outputs": [],
   "source": []
  }
 ],
 "metadata": {
  "kernelspec": {
   "display_name": "Python 3 (ipykernel)",
   "language": "python",
   "name": "python3"
  },
  "language_info": {
   "codemirror_mode": {
    "name": "ipython",
    "version": 3
   },
   "file_extension": ".py",
   "mimetype": "text/x-python",
   "name": "python",
   "nbconvert_exporter": "python",
   "pygments_lexer": "ipython3",
   "version": "3.8.12"
  }
 },
 "nbformat": 4,
 "nbformat_minor": 5
}
