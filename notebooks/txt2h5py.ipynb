{
 "cells": [
  {
   "cell_type": "code",
   "execution_count": 5,
   "id": "3b79b3ed-2387-4cee-89d7-6fc7d6e9e6bc",
   "metadata": {},
   "outputs": [],
   "source": [
    "import pandas as pd\n",
    "import numpy as np\n",
    "import h5py\n",
    "import sys\n",
    "sys.path.append(\"..\")\n",
    "from os import listdir\n",
    "from os.path import isfile, join"
   ]
  },
  {
   "cell_type": "code",
   "execution_count": 13,
   "id": "0dabc61a-250b-4953-8a60-f27417b35e33",
   "metadata": {},
   "outputs": [],
   "source": [
    "data_dir = \"../data/labeled/\"\n",
    "h5_data_dir = \"../data/h5/\""
   ]
  },
  {
   "cell_type": "code",
   "execution_count": 14,
   "id": "67758daa-7c3a-42ed-889c-7edf7642399f",
   "metadata": {},
   "outputs": [],
   "source": [
    "files = [f for f in listdir(data_dir) if isfile(join(data_dir, f))]\n"
   ]
  },
  {
   "cell_type": "code",
   "execution_count": 15,
   "id": "8e07b945-c075-4803-bd05-5147c8f3cc42",
   "metadata": {},
   "outputs": [
    {
     "data": {
      "text/plain": [
       "['labeled_tile_-60_-30.txt',\n",
       " 'labeled_tile_-10_-10.txt',\n",
       " 'labeled_tile_-50_-10.txt',\n",
       " 'labeled_tile_-40_-10.txt',\n",
       " 'labeled_tile_-20_-30.txt',\n",
       " 'labeled_tile_0_-20.txt',\n",
       " 'labeled_tile_-60_-10.txt',\n",
       " 'labeled_tile_-10_-20.txt',\n",
       " 'labeled_tile_-20_-20.txt',\n",
       " 'labeled_tile_-20_-10.txt',\n",
       " 'labeled_tile_-30_-20.txt',\n",
       " 'labeled_tile_0_10.txt',\n",
       " 'labeled_tile_-50_0.txt',\n",
       " 'labeled_tile_-10_10.txt',\n",
       " 'labeled_tile_-30_-30.txt',\n",
       " 'labeled_tile_-30_10.txt',\n",
       " 'labeled_tile_-50_-20.txt',\n",
       " 'labeled_tile_-30_-10.txt',\n",
       " 'labeled_tile_-40_-30.txt',\n",
       " 'labeled_tile_0_-10.txt',\n",
       " 'labeled_tile_0_0.txt',\n",
       " 'labeled_tile_-10_0.txt',\n",
       " 'labeled_tile_-40_-20.txt',\n",
       " 'labeled_tile_-60_-20.txt',\n",
       " 'labeled_tile_-60_0.txt',\n",
       " 'labeled_tile_-40_0.txt',\n",
       " 'labeled_tile_-30_0.txt']"
      ]
     },
     "execution_count": 15,
     "metadata": {},
     "output_type": "execute_result"
    }
   ],
   "source": []
  },
  {
   "cell_type": "code",
   "execution_count": 17,
   "id": "9a29a505-151d-43da-b37b-9b5c1bfc81da",
   "metadata": {},
   "outputs": [],
   "source": [
    "for file in files:\n",
    "    df = pd.read_csv(data_dir+file, sep=\" \", header=None)\n",
    "    data = df.to_numpy()\n",
    "    coords = data[:,0:3]\n",
    "    feats = data[:,3:5]\n",
    "    labels = data[:,-1]\n",
    "    with h5py.File(h5_data_dir+file.replace(\".txt\",\"\")+\".h5py\", 'w') as h5f:\n",
    "        h5f.create_dataset('coords', data = coords)\n",
    "        h5f.create_dataset(\"feats\", data = feats)\n",
    "        h5f.create_dataset('labels', data = labels)\n",
    "\n"
   ]
  },
  {
   "cell_type": "code",
   "execution_count": null,
   "id": "a29bd204-6596-4baf-a22c-dc72789aef99",
   "metadata": {},
   "outputs": [],
   "source": []
  }
 ],
 "metadata": {
  "kernelspec": {
   "display_name": "Python 3 (ipykernel)",
   "language": "python",
   "name": "python3"
  },
  "language_info": {
   "codemirror_mode": {
    "name": "ipython",
    "version": 3
   },
   "file_extension": ".py",
   "mimetype": "text/x-python",
   "name": "python",
   "nbconvert_exporter": "python",
   "pygments_lexer": "ipython3",
   "version": "3.8.12"
  }
 },
 "nbformat": 4,
 "nbformat_minor": 5
}
