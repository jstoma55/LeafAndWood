{
 "cells": [
  {
   "cell_type": "code",
   "execution_count": 1,
   "metadata": {},
   "outputs": [
    {
     "ename": "ModuleNotFoundError",
     "evalue": "No module named 'MinkowskiEngine'",
     "output_type": "error",
     "traceback": [
      "\u001b[0;31m---------------------------------------------------------------------------\u001b[0m",
      "\u001b[0;31mModuleNotFoundError\u001b[0m                       Traceback (most recent call last)",
      "\u001b[0;32m/tmp/lramirez/10832557/ipykernel_76934/1090202265.py\u001b[0m in \u001b[0;36m<module>\u001b[0;34m\u001b[0m\n\u001b[1;32m     14\u001b[0m \u001b[0;32mfrom\u001b[0m \u001b[0mtorch\u001b[0m\u001b[0;34m.\u001b[0m\u001b[0mautograd\u001b[0m \u001b[0;32mimport\u001b[0m \u001b[0mVariable\u001b[0m\u001b[0;34m\u001b[0m\u001b[0;34m\u001b[0m\u001b[0m\n\u001b[1;32m     15\u001b[0m \u001b[0;32mfrom\u001b[0m \u001b[0mtorch\u001b[0m\u001b[0;34m.\u001b[0m\u001b[0mutils\u001b[0m\u001b[0;34m.\u001b[0m\u001b[0mdata\u001b[0m \u001b[0;32mimport\u001b[0m \u001b[0mDataset\u001b[0m\u001b[0;34m\u001b[0m\u001b[0;34m\u001b[0m\u001b[0m\n\u001b[0;32m---> 16\u001b[0;31m \u001b[0;32mimport\u001b[0m \u001b[0mMinkowskiEngine\u001b[0m \u001b[0;32mas\u001b[0m \u001b[0mME\u001b[0m\u001b[0;34m\u001b[0m\u001b[0;34m\u001b[0m\u001b[0m\n\u001b[0m\u001b[1;32m     17\u001b[0m \u001b[0;32mimport\u001b[0m \u001b[0mMinkowskiEngine\u001b[0m\u001b[0;34m.\u001b[0m\u001b[0mMinkowskiFunctional\u001b[0m \u001b[0;32mas\u001b[0m \u001b[0mMF\u001b[0m\u001b[0;34m\u001b[0m\u001b[0;34m\u001b[0m\u001b[0m\n\u001b[1;32m     18\u001b[0m \u001b[0;32mfrom\u001b[0m \u001b[0msrc\u001b[0m\u001b[0;34m.\u001b[0m\u001b[0mmodels\u001b[0m\u001b[0;34m.\u001b[0m\u001b[0mSegModel\u001b[0m \u001b[0;32mimport\u001b[0m \u001b[0mSeg1\u001b[0m\u001b[0;34m\u001b[0m\u001b[0;34m\u001b[0m\u001b[0m\n",
      "\u001b[0;31mModuleNotFoundError\u001b[0m: No module named 'MinkowskiEngine'"
     ]
    }
   ],
   "source": [
    "# Imports\n",
    "import sys\n",
    "sys.path.append(\"..\")\n",
    "from os import listdir\n",
    "from os.path import isfile, join\n",
    "import h5py\n",
    "import os\n",
    "import numpy as np\n",
    "import torch\n",
    "import torch.nn as nn \n",
    "import torch.optim as optim\n",
    "import torch.nn.functional as F\n",
    "import torch.backends.cudnn as cudnn\n",
    "from torch.autograd import Variable\n",
    "from torch.utils.data import Dataset\n",
    "import MinkowskiEngine as ME\n",
    "import MinkowskiEngine.MinkowskiFunctional as MF\n",
    "from src.models.SegModel import Seg1"
   ]
  },
  {
   "cell_type": "code",
   "execution_count": null,
   "metadata": {},
   "outputs": [],
   "source": [
    "if torch.cuda.is_available():\n",
    "    device = torch.device('cuda')\n",
    "else:\n",
    "    device = torch.device('cpu')\n",
    "       \n",
    "# Paths\n",
    "DATA_PATH = os.path.abspath(\"../data/h5/\")\n",
    "\n",
    "# Model Variables \n",
    "BATCH_SIZE = 1\n",
    "NUM_CLASSES = 2\n",
    "NUM_EPOCHS = 20\n",
    "LEARNING_RATE = 0.001\n",
    "L2 = 0.005\n",
    "MOMENTUM = 0.9\n",
    "QUANTIZATION_SIZE=0.005"
   ]
  },
  {
   "cell_type": "code",
   "execution_count": null,
   "metadata": {},
   "outputs": [],
   "source": [
    "device=\"cpu\"\n",
    "print(device)"
   ]
  },
  {
   "cell_type": "code",
   "execution_count": null,
   "metadata": {},
   "outputs": [],
   "source": [
    "# Custom dataset\n",
    "class SparseDataset(Dataset):\n",
    "    def __init__(self, data_dir,  quantization_size=0.005):\n",
    "        self.data_dir = data_dir\n",
    "        self.quantization_size=quantization_size\n",
    "        self.data_files = [f for f in listdir(data_dir) if isfile(join(data_dir, f))]\n",
    "\n",
    "    def __len__(self):\n",
    "        return len(self.data_files)\n",
    "\n",
    "    def __getitem__(self, idx):\n",
    "        data_path = os.path.join(self.data_dir, self.data_files[idx])\n",
    "        with h5py.File(data_path, \"r\") as hf:\n",
    "            coords = hf['coords'][:]\n",
    "            features = hf['feats'][:]\n",
    "            labels = np.int_(hf['labels'][:])\n",
    "        discrete_coords, unique_feats, unique_labels = ME.utils.sparse_quantize(\n",
    "            coordinates=coords,\n",
    "            features=features,\n",
    "            labels=labels,\n",
    "            quantization_size=self.quantization_size,\n",
    "            ignore_label=-100)\n",
    "        return discrete_coords, unique_feats, unique_labels\n"
   ]
  },
  {
   "cell_type": "code",
   "execution_count": null,
   "metadata": {},
   "outputs": [],
   "source": [
    "# Create dataset and dataloader\n",
    "train = SparseDataset(DATA_PATH, quantization_size=QUANTIZATION_SIZE)\n",
    "train_loader = torch.utils.data.DataLoader(train, batch_size = BATCH_SIZE, collate_fn=ME.utils.batch_sparse_collate, num_workers=1)"
   ]
  },
  {
   "cell_type": "code",
   "execution_count": null,
   "metadata": {},
   "outputs": [],
   "source": [
    "class ConvBlock(ME.MinkowskiNetwork):\n",
    "    def __init__(self, in_channels, out_channels, D=3):\n",
    "        super(ConvBlock, self).__init__(D)\n",
    "        self.block = nn.Sequential(\n",
    "            ME.MinkowskiBatchNorm(in_channels),\n",
    "            ME.MinkowskiReLU(),\n",
    "            ME.MinkowskiConvolution(in_channels, out_channels, kernel_size=3, stride=1, dimension=D),\n",
    "            ME.MinkowskiBatchNorm(out_channels),\n",
    "            ME.MinkowskiReLU(),\n",
    "            ME.MinkowskiConvolution(out_channels, out_channels, kernel_size=3, stride=1, dimension=D)\n",
    "        )\n",
    "    def forward(self, x):\n",
    "        return self.block(x)\n",
    "\n",
    "class MiniSeg(ME.MinkowskiNetwork):\n",
    "    def __init__(self, in_channels, channels, n_classes, D=3):\n",
    "        super(MiniSeg, self).__init__(D)\n",
    "        self.pool = ME.MinkowskiMaxPooling(2, dimension=D)\n",
    "        self.SM = ME.MinkowskiSoftmax()\n",
    "        self.c1 = ConvBlock(in_channels, channels, D)\n",
    "        self.c2 = ConvBlock(32, 64, D)\n",
    "        self.c3 = ConvBlock(64, 128, D)\n",
    "        \n",
    "        self.t1 = ME.MinkowskiConvolutionTranspose(128, 64, kernel_size=3, stride=1, dimension=D)\n",
    "        self.c4 = ConvBlock(128, 64, D)\n",
    "        self.t2 = ME.MinkowskiConvolutionTranspose(64, 32,kernel_size=3, stride=1, dimension=D)\n",
    "        self.c5 = ConvBlock(64, 32,D)\n",
    "        \n",
    "        self.out = ME.MinkowskiConvolution(32, n_classes, kernel_size=1, dimension=D)\n",
    "    def forward(self, x):\n",
    "        cat1 = self.c1(x)\n",
    "        o = self.pool(cat1)\n",
    "        cat2 = self.c2(o)\n",
    "        o = self.pool(cat2)\n",
    "        \n",
    "        o = self.c3(o)\n",
    "        \n",
    "        o = self.t1(o)\n",
    "        o = ME.cat(cat2, o)\n",
    "        o = self.c4(o)\n",
    "        o = self.t2(o)\n",
    "        o = ME.cat(cat1, o)\n",
    "        o = self.c5(o)\n",
    "        \n",
    "        o = self.out(o)\n",
    "        return o\n"
   ]
  },
  {
   "cell_type": "code",
   "execution_count": null,
   "metadata": {},
   "outputs": [],
   "source": [
    "# Model\n",
    " \n",
    "model = Seg1(2, 32, 2, 2).to(device)\n",
    "loss_func = nn.CrossEntropyLoss(ignore_index=-100)\n",
    "optimizer = optim.SGD(model.parameters(), lr=LEARNING_RATE, weight_decay=L2, momentum=MOMENTUM)\n"
   ]
  },
  {
   "cell_type": "code",
   "execution_count": null,
   "metadata": {},
   "outputs": [],
   "source": [
    "# Training \n",
    "for epoch in range(NUM_EPOCHS):\n",
    "    total_loss = 0\n",
    "    for i, data in enumerate(train_loader): \n",
    "        print(\"Processing tile \",i)\n",
    "        coords, feats, labels = data\n",
    "        optimizer.zero_grad()\n",
    "        #print(coords)\n",
    "        #print(feats)\n",
    "        #print(labels)\n",
    "        y_ = model(ME.SparseTensor(feats.float(), coords, device=device))\n",
    "        loss = loss_func(y_.F.squeeze(), labels.long())\n",
    "        loss.backward()\n",
    "        optimizer.step()\n",
    "        total_loss += loss.item()\n",
    "        del coords, feats, labels,y_\n",
    "        torch.cuda.empty_cache()\n",
    "    print(f\"Epoch {epoch}: loss {total_loss}\")\n"
   ]
  },
  {
   "cell_type": "code",
   "execution_count": null,
   "metadata": {},
   "outputs": [],
   "source": []
  },
  {
   "cell_type": "code",
   "execution_count": null,
   "metadata": {},
   "outputs": [],
   "source": []
  },
  {
   "cell_type": "code",
   "execution_count": null,
   "metadata": {},
   "outputs": [],
   "source": []
  },
  {
   "cell_type": "code",
   "execution_count": null,
   "metadata": {},
   "outputs": [],
   "source": []
  }
 ],
 "metadata": {
  "interpreter": {
   "hash": "70f9338631b1e814274bb6be12ff2af50260dd3a60751a7a596f31e11ca463b8"
  },
  "kernelspec": {
   "display_name": "Python 3 (ipykernel)",
   "language": "python",
   "name": "python3"
  },
  "language_info": {
   "codemirror_mode": {
    "name": "ipython",
    "version": 3
   },
   "file_extension": ".py",
   "mimetype": "text/x-python",
   "name": "python",
   "nbconvert_exporter": "python",
   "pygments_lexer": "ipython3",
   "version": "3.8.11"
  }
 },
 "nbformat": 4,
 "nbformat_minor": 4
}
