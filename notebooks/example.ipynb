{
 "cells": [
  {
   "cell_type": "code",
   "execution_count": 2,
   "metadata": {},
   "outputs": [],
   "source": [
    "# Imports\n",
    "import sys\n",
    "sys.path.append(\"..\")\n",
    "import os\n",
    "import torch\n",
    "import torch.nn as nn \n",
    "import torch.optim as optim\n",
    "from torch.autograd import Variable\n",
    "\n",
    "# Local Imports\n",
    "from src.models.CNN import CNNModel\n",
    "from src.data.voxelize import voxelize\n",
    "from src.data.utils import read_voxel_data"
   ]
  },
  {
   "cell_type": "code",
   "execution_count": 3,
   "metadata": {},
   "outputs": [],
   "source": [
    "# Paths\n",
    "LABELED_DATA = os.path.abspath(\"../data/labeled/\")\n",
    "VOXELIZED_DATA = os.path.abspath(\"../data/voxelized/amazon.h5py\")\n",
    "\n",
    "# Model Variables \n",
    "BATCH_SIZE = 3\n",
    "NUM_CLASSES = 2\n",
    "NUM_EPOCHS = 1\n",
    "LEARNING_RATE = 0.001"
   ]
  },
  {
   "cell_type": "code",
   "execution_count": 3,
   "metadata": {},
   "outputs": [
    {
     "name": "stdout",
     "output_type": "stream",
     "text": [
      "Voxel Size: 100\n",
      "Voxelized: labeled_tile_-60_-30.txt | Shape: (100, 100, 400, 8)\n",
      "Voxelized: labeled_tile_-30_-10.txt | Shape: (100, 100, 400, 8)\n",
      "Voxelized: labeled_tile_-60_-20.txt | Shape: (100, 100, 400, 8)\n",
      "Voxelized: labeled_tile_0_0.txt | Shape: (100, 100, 400, 8)\n",
      "Voxelized: labeled_tile_-40_-10.txt | Shape: (100, 100, 400, 8)\n",
      "Voxelized: labeled_tile_-50_-10.txt | Shape: (100, 100, 400, 8)\n",
      "Voxelized: labeled_tile_-50_-20.txt | Shape: (100, 100, 400, 8)\n",
      "Voxelized: labeled_tile_-40_-20.txt | Shape: (100, 100, 400, 8)\n",
      "Voxelized: labeled_tile_-10_-10.txt | Shape: (100, 100, 400, 8)\n",
      "Voxelized: labeled_tile_-40_-30.txt | Shape: (100, 100, 400, 8)\n",
      "Voxelized: labeled_tile_0_10.txt | Shape: (100, 100, 400, 8)\n",
      "Voxelized: labeled_tile_-60_-10.txt | Shape: (100, 100, 400, 8)\n",
      "Voxelized: labeled_tile_-30_-30.txt | Shape: (100, 100, 400, 8)\n",
      "Voxelized: labeled_tile_-30_-20.txt | Shape: (100, 100, 400, 8)\n",
      "Output: /Users/julius/Desktop/LeafAndWood/data/voxelized/amazon.h5py\n"
     ]
    }
   ],
   "source": [
    "# Voxelize the data\n",
    "#voxelized_data_file = voxelize(LABELED_DATA, VOXELIZED_DATA, 100) # This takes a while"
   ]
  },
  {
   "cell_type": "code",
   "execution_count": 5,
   "metadata": {},
   "outputs": [
    {
     "name": "stdout",
     "output_type": "stream",
     "text": [
      "Voxels data shape: (14, 100, 100, 400, 7)\n",
      "Labels data shape: (14, 100, 100, 400)\n"
     ]
    }
   ],
   "source": [
    "# Read voxelized data\n",
    "voxels, labels = read_voxel_data(VOXELIZED_DATA)\n",
    "train_x = torch.from_numpy(voxels).float()\n",
    "train_y = torch.from_numpy(labels).long()\n",
    "train = torch.utils.data.TensorDataset(train_x, train_y)\n",
    "train_loader = torch.utils.data.DataLoader(train, batch_size = BATCH_SIZE, shuffle = True)"
   ]
  },
  {
   "cell_type": "code",
   "execution_count": 7,
   "metadata": {},
   "outputs": [],
   "source": [
    "# Model\n",
    "model = CNNModel()\n",
    "loss_func = nn.CrossEntropyLoss()\n",
    "optimizer = optim.SGD(model.parameters(), lr=LEARNING_RATE)\n",
    "print(model)"
   ]
  },
  {
   "cell_type": "code",
   "execution_count": 6,
   "metadata": {},
   "outputs": [
    {
     "ename": "NameError",
     "evalue": "name 'optimizer' is not defined",
     "output_type": "error",
     "traceback": [
      "\u001b[0;31m---------------------------------------------------------------------------\u001b[0m",
      "\u001b[0;31mNameError\u001b[0m                                 Traceback (most recent call last)",
      "Input \u001b[0;32mIn [6]\u001b[0m, in \u001b[0;36m<module>\u001b[0;34m\u001b[0m\n\u001b[1;32m      4\u001b[0m train \u001b[38;5;241m=\u001b[39m Variable(points\u001b[38;5;241m.\u001b[39mview(BATCH_SIZE, \u001b[38;5;241m7\u001b[39m, \u001b[38;5;241m100\u001b[39m, \u001b[38;5;241m100\u001b[39m, \u001b[38;5;241m400\u001b[39m))\n\u001b[1;32m      5\u001b[0m labels \u001b[38;5;241m=\u001b[39m Variable(labels\u001b[38;5;241m.\u001b[39mview(BATCH_SIZE, \u001b[38;5;241m1\u001b[39m, \u001b[38;5;241m100\u001b[39m, \u001b[38;5;241m100\u001b[39m, \u001b[38;5;241m400\u001b[39m))\n\u001b[0;32m----> 6\u001b[0m \u001b[43moptimizer\u001b[49m\u001b[38;5;241m.\u001b[39mzero_grad()\n\u001b[1;32m      7\u001b[0m outputs \u001b[38;5;241m=\u001b[39m model(points)\n\u001b[1;32m      8\u001b[0m loss \u001b[38;5;241m=\u001b[39m loss_func(outputs, labels)\n",
      "\u001b[0;31mNameError\u001b[0m: name 'optimizer' is not defined"
     ]
    }
   ],
   "source": [
    "# Training \n",
    "for epoch in range(NUM_EPOCHS):\n",
    "    for i, (points, labels) in enumerate(train_loader):\n",
    "        train = Variable(points.view(BATCH_SIZE, 7, 100, 100, 400))\n",
    "        labels = Variable(labels.view(BATCH_SIZE, 1, 100, 100, 400))\n",
    "        optimizer.zero_grad()\n",
    "        outputs = model(points)\n",
    "        loss = loss_func(outputs, labels)\n",
    "        loss.backward()\n",
    "        optimizer.step()"
   ]
  }
 ],
 "metadata": {
  "interpreter": {
   "hash": "70f9338631b1e814274bb6be12ff2af50260dd3a60751a7a596f31e11ca463b8"
  },
  "kernelspec": {
   "display_name": "",
   "language": "python",
   "name": "python3"
  },
  "language_info": {
   "codemirror_mode": {
    "name": "ipython",
    "version": 3
   },
   "file_extension": ".py",
   "mimetype": "text/x-python",
   "name": "python",
   "nbconvert_exporter": "python",
   "pygments_lexer": "ipython3",
   "version": "3.9.10"
  },
  "orig_nbformat": 4
 },
 "nbformat": 4,
 "nbformat_minor": 2
}
