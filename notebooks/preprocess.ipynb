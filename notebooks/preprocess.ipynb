{
 "cells": [
  {
   "cell_type": "code",
   "execution_count": null,
   "id": "e12f73cf",
   "metadata": {},
   "outputs": [],
   "source": [
    "import sys\n",
    "sys.path.append(\"..\")\n",
    "from src.data.preprocess import slice_tiles, split_for_training"
   ]
  },
  {
   "cell_type": "code",
   "execution_count": null,
   "id": "3aca85b0",
   "metadata": {},
   "outputs": [],
   "source": [
    "# Set data paths\n",
    "LABELED_DATA_DIR = \"../data/labeled/\"\n",
    "H5_SMALL = \"../data/h5_meter/data.h5py\"\n",
    "H5_SMALL_TRAIN = \"../data/h5_meter/train.h5py\"\n",
    "H5_SMALL_TEST= \"../data/h5_meter/test.h5py\"\n",
    "H5_SMALL_DEV = \"../data/h5_meter/dev.h5py\""
   ]
  },
  {
   "cell_type": "code",
   "execution_count": null,
   "id": "bfb3c506",
   "metadata": {},
   "outputs": [],
   "source": [
    "# Set wanted tile size and min tile points\n",
    "GRID_TILE_SIZE = 1\n",
    "MIN_POINT_NUM = 5"
   ]
  },
  {
   "cell_type": "code",
   "execution_count": null,
   "id": "8d9fe424",
   "metadata": {},
   "outputs": [],
   "source": [
    "# Splits all the tiles into GRID_TILE_SIZE\n",
    "slice_tiles(LABELED_DATA_DIR, H5_SMALL, GRID_TILE_SIZE, MIN_POINT_NUM)"
   ]
  },
  {
   "cell_type": "code",
   "execution_count": null,
   "id": "d5296785",
   "metadata": {},
   "outputs": [],
   "source": [
    "# Split tiles into train/test/dev\n",
    "split_for_training(H5_SMALL, H5_SMALL_TRAIN, H5_SMALL_TEST, H5_SMALL_DEV, 0.8, 0.1, 0.1)"
   ]
  }
 ],
 "metadata": {
  "kernelspec": {
   "display_name": "Python 3 (ipykernel)",
   "language": "python",
   "name": "python3"
  },
  "language_info": {
   "codemirror_mode": {
    "name": "ipython",
    "version": 3
   },
   "file_extension": ".py",
   "mimetype": "text/x-python",
   "name": "python",
   "nbconvert_exporter": "python",
   "pygments_lexer": "ipython3",
   "version": "3.9.10"
  }
 },
 "nbformat": 4,
 "nbformat_minor": 5
}
