{
 "cells": [
  {
   "cell_type": "code",
   "execution_count": 1,
   "id": "e12f73cf",
   "metadata": {},
   "outputs": [],
   "source": [
    "import sys\n",
    "sys.path.append(\"..\")\n",
    "from src.data.preprocess import slice_tiles, split_for_training, get_label_freq"
   ]
  },
  {
   "cell_type": "code",
   "execution_count": 8,
   "id": "3aca85b0",
   "metadata": {},
   "outputs": [],
   "source": [
    "# Set data paths\n",
    "LABELED_DATA_DIR = \"../data/labeled/\"\n",
    "H5_SMALL = \"../data/h5_test/data.h5py\"\n",
    "H5_SMALL_TRAIN = \"../data/h5_test/train.h5py\"\n",
    "H5_SMALL_TEST= \"../data/h5_test/test.h5py\"\n",
    "H5_SMALL_DEV = \"../data/h5_test/dev.h5py\""
   ]
  },
  {
   "cell_type": "code",
   "execution_count": null,
   "id": "bfb3c506",
   "metadata": {},
   "outputs": [],
   "source": [
    "# Set wanted tile size and min tile points\n",
    "GRID_TILE_SIZE = 1\n",
    "MIN_POINT_NUM = 5"
   ]
  },
  {
   "cell_type": "code",
   "execution_count": null,
   "id": "8d9fe424",
   "metadata": {},
   "outputs": [],
   "source": [
    "# Splits all the tiles into GRID_TILE_SIZE\n",
    "slice_tiles(LABELED_DATA_DIR, H5_SMALL, GRID_TILE_SIZE, MIN_POINT_NUM)"
   ]
  },
  {
   "cell_type": "code",
   "execution_count": null,
   "id": "d5296785",
   "metadata": {},
   "outputs": [],
   "source": [
    "# Split tiles into train/test/dev\n",
    "split_for_training(H5_SMALL, H5_SMALL_TRAIN, H5_SMALL_TEST, H5_SMALL_DEV, 0.8, 0.1, 0.1)"
   ]
  },
  {
   "cell_type": "code",
   "execution_count": 10,
   "id": "6b0e544c",
   "metadata": {},
   "outputs": [
    {
     "name": "stdout",
     "output_type": "stream",
     "text": [
      "{'0': 61753965, '1': 14089141}\n"
     ]
    }
   ],
   "source": [
    "# Get label frequency in dataset\n",
    "print(get_label_freq(H5_SMALL_TRAIN))"
   ]
  },
  {
   "cell_type": "code",
   "execution_count": null,
   "id": "cca74f8c",
   "metadata": {},
   "outputs": [],
   "source": []
  }
 ],
 "metadata": {
  "kernelspec": {
   "display_name": "Python 3",
   "language": "python",
   "name": "python3"
  },
  "language_info": {
   "codemirror_mode": {
    "name": "ipython",
    "version": 3
   },
   "file_extension": ".py",
   "mimetype": "text/x-python",
   "name": "python",
   "nbconvert_exporter": "python",
   "pygments_lexer": "ipython3",
   "version": "3.9.4"
  }
 },
 "nbformat": 4,
 "nbformat_minor": 5
}
